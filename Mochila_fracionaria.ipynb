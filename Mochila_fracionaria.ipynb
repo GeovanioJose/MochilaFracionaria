{
  "nbformat": 4,
  "nbformat_minor": 0,
  "metadata": {
    "colab": {
      "provenance": [],
      "authorship_tag": "ABX9TyMXKyU/rzCjhRHkvnBwKxKq",
      "include_colab_link": true
    },
    "kernelspec": {
      "name": "python3",
      "display_name": "Python 3"
    },
    "language_info": {
      "name": "python"
    }
  },
  "cells": [
    {
      "cell_type": "markdown",
      "metadata": {
        "id": "view-in-github",
        "colab_type": "text"
      },
      "source": [
        "<a href=\"https://colab.research.google.com/github/GeovanioJose/MochilaFracionaria/blob/main/Mochila_fracionaria.ipynb\" target=\"_parent\"><img src=\"https://colab.research.google.com/assets/colab-badge.svg\" alt=\"Open In Colab\"/></a>"
      ]
    },
    {
      "cell_type": "markdown",
      "source": [
        "##Universidade Fedral do Agreste de Pernambuco\n",
        "##Bacharelado em CIência da Computação \n",
        "##Projto e Análise de Algoritmos\n",
        "###Prof. Dr. Álvaro Sobrinho\n",
        "###Discente: Geovânio José da Silva"
      ],
      "metadata": {
        "id": "-WMF4OLoLIm2"
      }
    },
    {
      "cell_type": "markdown",
      "source": [
        "##Problema da Mochila Fracionária"
      ],
      "metadata": {
        "id": "u6uViGvKPKRg"
      }
    },
    {
      "cell_type": "markdown",
      "source": [
        "No problema da mochila fracionária, temos um conjunto de n itens. Cada item i tem um valor v(i) e um peso w(i) onde 0 <= i < n. Nos é dado um peso máximo W. O problema é encontrar quanto de cada item devemos pegar de modo que o peso total não exceda W e o valor total seja maximizado."
      ],
      "metadata": {
        "id": "EjAzHD_oKcUP"
      }
    },
    {
      "cell_type": "markdown",
      "source": [
        "Pseudocódigo"
      ],
      "metadata": {
        "id": "PFug1NksbGKP"
      }
    },
    {
      "cell_type": "code",
      "source": [
        "Mochila-Fracionária (p, v, n, c)\n",
        "   j := n\n",
        "   enquanto j ≥ 1 e p[j] ≤ c\n",
        "    x[j] := 1\n",
        "     c := c − p[j]\n",
        "     j := j − 1 \n",
        "   se j ≥ 1\n",
        "     x[j] := c / p[j]\n",
        "       para i := j−1 decrescendo até 1\n",
        "           x[i] := 0\n",
        "devolva x\n",
        "\n",
        "#Mochila Fracionária, Disponível em: <https://www.ime.usp.br/~pf/analise_de_algoritmos/aulas/mochila-frac.html>"
      ],
      "metadata": {
        "id": "_i7HcDEqbH4p"
      },
      "execution_count": null,
      "outputs": []
    },
    {
      "cell_type": "markdown",
      "source": [
        "Algoritmo em Python"
      ],
      "metadata": {
        "id": "2zEs6VGIbD_J"
      }
    },
    {
      "cell_type": "code",
      "execution_count": null,
      "metadata": {
        "colab": {
          "base_uri": "https://localhost:8080/"
        },
        "id": "op1lv1hzVTM1",
        "outputId": "a2d76c22-43d2-4647-cb27-be176d946f58"
      },
      "outputs": [
        {
          "output_type": "stream",
          "name": "stdout",
          "text": [
            "O valor máximo obtido é = 410.0\n"
          ]
        }
      ],
      "source": [
        "#Utilizaremos uma estrutura para instanciar cada item\n",
        "#o item possui dois atributos: valor e peso\n",
        "class Item:\n",
        "\tdef __init__(self, valor, peso):\n",
        "\t\tself.valor = valor\n",
        "\t\tself.peso = peso\n",
        "\n",
        "#O algoritmo recebe como paramêtro um array com os itens e um inteiro W referente a capacidade máxima da mochila\n",
        "def MochilaFracionaria(itens, W):\n",
        "\n",
        "\t# Ordena o array como base no melhor ganho\n",
        "\titens.sort(key=lambda x: (x.valor/x.peso), reverse=True)\n",
        "\n",
        "\t# valor final obtido \n",
        "\tfinalvalor = 0.0\n",
        "\n",
        "\t# Percorrendo todos os itens\n",
        "\tfor item in itens:\n",
        "\t\t#Se a adição do item não transbordar o limete da mochila, adicione-o o item\n",
        "    # decremente a capaciade da mochila subtraindo o peso do item adicionado\n",
        "    #incremente o valor final do ganho obtido com a adição do item\n",
        "\t\tif item.peso <= W:\n",
        "\t\t\tW -= item.peso\n",
        "\t\t\tfinalvalor += item.valor\n",
        "    #Se não puder adicionar o item atual, adicione a parte fracionária dele\n",
        "\t\telse:\n",
        "\t\t\tfinalvalor += item.valor * W / item.peso\n",
        "\t\t\tbreak\n",
        "      \n",
        "\t# retorna o valor final obtido\n",
        "\treturn finalvalor\n",
        "\n",
        "if __name__ == \"__main__\":\n",
        "\n",
        "\t#A capacidade máxima da mochila\n",
        "\tW = 80\n",
        "\titens = [Item(60, 10), Item(100, 20), Item(120, 30), Item(130, 7)]\n",
        "\n",
        "  #valor máximo obtido \n",
        "\tganho_max = MochilaFracionaria(itens, W)\n",
        "\tprint ('O valor máximo obtido é = {}'.format(ganho_max))\n"
      ]
    }
  ]
}